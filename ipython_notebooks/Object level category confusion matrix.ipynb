{
 "metadata": {
  "name": "Object level category confusion matrix"
 },
 "nbformat": 3,
 "nbformat_minor": 0,
 "worksheets": [
  {
   "cells": [
    {
     "cell_type": "code",
     "collapsed": false,
     "input": [
      "from dldata.stimulus_sets import hvm"
     ],
     "language": "python",
     "metadata": {},
     "outputs": [],
     "prompt_number": 46
    },
    {
     "cell_type": "code",
     "collapsed": false,
     "input": [
      "import pymongo as pm"
     ],
     "language": "python",
     "metadata": {},
     "outputs": [],
     "prompt_number": 2
    },
    {
     "cell_type": "code",
     "collapsed": false,
     "input": [
      "conn = pm.Connection('localhost', 22334)"
     ],
     "language": "python",
     "metadata": {},
     "outputs": [],
     "prompt_number": 4
    },
    {
     "cell_type": "code",
     "collapsed": false,
     "input": [
      "coll = conn['mturk']['HvM_7x7']"
     ],
     "language": "python",
     "metadata": {},
     "outputs": [],
     "prompt_number": 5
    },
    {
     "cell_type": "code",
     "collapsed": false,
     "input": [
      "def cleanup(label):\n",
      "    label = str(label)\n",
      "    if label == 'animal':\n",
      "        label = 'animals'\n",
      "    return label\n",
      "    \n",
      "obj_shown = []\n",
      "cat_chosen = []\n",
      "for entry in coll.find({'Condition':'HvM_7x7_var6'}):\n",
      "    obj_shown.extend([str(img_meta['obj']) for img_meta in entry['ImgData']])\n",
      "    cat_chosen.extend([cleanup(cat) for cat in entry['Response']])"
     ],
     "language": "python",
     "metadata": {},
     "outputs": [],
     "prompt_number": 138
    },
    {
     "cell_type": "code",
     "collapsed": false,
     "input": [
      "objs = np.array([obj.lower() for obj in objs_canon])\n",
      "cats = np.array([cat.lower() for cat in dataset.categories])"
     ],
     "language": "python",
     "metadata": {},
     "outputs": [],
     "prompt_number": 139
    },
    {
     "cell_type": "code",
     "collapsed": false,
     "input": [
      "cats\n"
     ],
     "language": "python",
     "metadata": {},
     "outputs": [
      {
       "output_type": "pyout",
       "prompt_number": 143,
       "text": [
        "array(['animals', 'boats', 'cars', 'chairs', 'faces', 'fruits', 'planes',\n",
        "       'tables'], \n",
        "      dtype='|S7')"
       ]
      }
     ],
     "prompt_number": 143
    },
    {
     "cell_type": "code",
     "collapsed": false,
     "input": [
      "rsp_mat = zeros((8,64))\n",
      "for obj, cat in zip(obj_shown, cat_chosen):\n",
      "    rsp_mat[int(np.argwhere(cats==cat.lower())), int(np.argwhere(objs==obj.lower()))] += 1"
     ],
     "language": "python",
     "metadata": {},
     "outputs": [],
     "prompt_number": 144
    },
    {
     "cell_type": "code",
     "collapsed": false,
     "input": [
      "matshow(rsp_mat)"
     ],
     "language": "python",
     "metadata": {},
     "outputs": [
      {
       "output_type": "pyout",
       "prompt_number": 146,
       "text": [
        "<matplotlib.image.AxesImage at 0x59a2050>"
       ]
      },
      {
       "output_type": "display_data",
       "png": "[encoded data removed]"
      }
     ],
     "prompt_number": 146
    },
    {
     "cell_type": "code",
     "collapsed": false,
     "input": [
      "objs[7]\n",
      "cats[5]"
     ],
     "language": "python",
     "metadata": {},
     "outputs": [
      {
       "output_type": "pyout",
       "prompt_number": 158,
       "text": [
        "'fruits'"
       ]
      }
     ],
     "prompt_number": 158
    },
    {
     "cell_type": "code",
     "collapsed": false,
     "input": [
      "dataset = hvm.HvMWithDiscfade()"
     ],
     "language": "python",
     "metadata": {},
     "outputs": [],
     "prompt_number": 48
    },
    {
     "cell_type": "code",
     "collapsed": false,
     "input": [
      "import itertools\n",
      "odict = dict([(_y['category'], _y['obj'].split(',')) for _y in dataset.meta[['obj', 'category']].aggregate(On=['category'], AggFunc=lambda x: ','.join(set(x)))])\n",
      "\n",
      "objs_canon = list(itertools.chain(*[odict[cat] for cat in dataset.categories]))"
     ],
     "language": "python",
     "metadata": {},
     "outputs": [],
     "prompt_number": 53
    },
    {
     "cell_type": "code",
     "collapsed": false,
     "input": [
      "objs_canon"
     ],
     "language": "python",
     "metadata": {},
     "outputs": [
      {
       "output_type": "pyout",
       "prompt_number": 54,
       "text": [
        "['ELEPHANT_M',\n",
        " 'TURTLE_L',\n",
        " 'breed_pug',\n",
        " 'LIONESS',\n",
        " 'bear',\n",
        " 'GORILLA',\n",
        " 'blCow',\n",
        " 'hedgehog',\n",
        " 'BAHRAIN',\n",
        " 'motoryacht',\n",
        " 'cruiser',\n",
        " 'DTUG_L',\n",
        " 'support',\n",
        " 'MQUEEN_L',\n",
        " 'CGTG_L',\n",
        " 'SISTER_L',\n",
        " 'alfa155',\n",
        " 'celica',\n",
        " 'bmw325',\n",
        " 'bora_a',\n",
        " 'Beetle',\n",
        " 'clio',\n",
        " 'astra',\n",
        " 'z3',\n",
        " '_031',\n",
        " '_033',\n",
        " '_001',\n",
        " '_014',\n",
        " '_004',\n",
        " '_010',\n",
        " '_011',\n",
        " '_008',\n",
        " 'face0003',\n",
        " 'face0002',\n",
        " 'face0001',\n",
        " 'face0007',\n",
        " 'face0006',\n",
        " 'face0005',\n",
        " 'face0004',\n",
        " 'face0008',\n",
        " 'walnut_obj',\n",
        " 'watermelon_obj',\n",
        " 'Strawberry_obj',\n",
        " 'Pear_obj',\n",
        " 'Apple_Fruit_obj',\n",
        " 'Peach_obj',\n",
        " 'Apricot_obj',\n",
        " 'raspberry_obj',\n",
        " '_19_flyingBoat',\n",
        " 'mig29',\n",
        " 'f16',\n",
        " 'rdbarren',\n",
        " 'sopwith',\n",
        " '_01_Airliner_2jetEngines',\n",
        " '_05_future',\n",
        " 'junkers88',\n",
        " '_44',\n",
        " '_38',\n",
        " '_12',\n",
        " '_11',\n",
        " '_10',\n",
        " '_08',\n",
        " '_37',\n",
        " '_18']"
       ]
      }
     ],
     "prompt_number": 54
    },
    {
     "cell_type": "code",
     "collapsed": false,
     "input": [
      "np.array(dataset.objects) == np.array(objs_canon)"
     ],
     "language": "python",
     "metadata": {},
     "outputs": [
      {
       "output_type": "pyout",
       "prompt_number": 58,
       "text": [
        "array([False, False, False,  True, False, False, False,  True,  True,\n",
        "       False, False, False, False, False, False, False, False, False,\n",
        "       False, False, False, False, False, False, False, False, False,\n",
        "       False, False, False, False, False, False,  True, False, False,\n",
        "       False, False, False,  True, False, False, False,  True, False,\n",
        "       False, False, False, False, False, False, False,  True,  True,\n",
        "        True, False, False, False, False, False, False, False, False, False], dtype=bool)"
       ]
      }
     ],
     "prompt_number": 58
    },
    {
     "cell_type": "code",
     "collapsed": false,
     "input": [
      "dataset.categories"
     ],
     "language": "python",
     "metadata": {},
     "outputs": [
      {
       "output_type": "pyout",
       "prompt_number": 60,
       "text": [
        "['Animals', 'Boats', 'Cars', 'Chairs', 'Faces', 'Fruits', 'Planes', 'Tables']"
       ]
      }
     ],
     "prompt_number": 60
    },
    {
     "cell_type": "code",
     "collapsed": false,
     "input": [
      "entry = coll.find_one({'Condition':'HvM_7x7_var3'})"
     ],
     "language": "python",
     "metadata": {},
     "outputs": [],
     "prompt_number": 126
    },
    {
     "cell_type": "code",
     "collapsed": false,
     "input": [
      "entry['Response']"
     ],
     "language": "python",
     "metadata": {},
     "outputs": [
      {
       "output_type": "pyout",
       "prompt_number": 128,
       "text": [
        "[u'fruits',\n",
        " u'tables',\n",
        " u'faces',\n",
        " u'planes',\n",
        " u'chairs',\n",
        " u'chairs',\n",
        " u'chairs',\n",
        " u'planes',\n",
        " u'animal',\n",
        " u'chairs',\n",
        " u'faces',\n",
        " u'fruits',\n",
        " u'animal',\n",
        " u'chairs',\n",
        " u'planes',\n",
        " u'faces',\n",
        " u'animal',\n",
        " u'chairs',\n",
        " u'tables',\n",
        " u'chairs',\n",
        " u'animal',\n",
        " u'fruits',\n",
        " u'planes',\n",
        " u'fruits',\n",
        " u'chairs',\n",
        " u'chairs',\n",
        " u'planes',\n",
        " u'tables',\n",
        " u'chairs',\n",
        " u'faces',\n",
        " u'tables',\n",
        " u'cars',\n",
        " u'chairs',\n",
        " u'planes',\n",
        " u'fruits',\n",
        " u'chairs',\n",
        " u'faces',\n",
        " u'faces',\n",
        " u'fruits',\n",
        " u'chairs',\n",
        " u'chairs',\n",
        " u'planes',\n",
        " u'tables',\n",
        " u'animal',\n",
        " u'cars',\n",
        " u'chairs',\n",
        " u'cars',\n",
        " u'faces',\n",
        " u'faces',\n",
        " u'chairs',\n",
        " u'tables',\n",
        " u'cars',\n",
        " u'chairs',\n",
        " u'planes',\n",
        " u'animal',\n",
        " u'cars',\n",
        " u'fruits',\n",
        " u'cars',\n",
        " u'cars',\n",
        " u'tables',\n",
        " u'animal',\n",
        " u'tables',\n",
        " u'planes',\n",
        " u'animal',\n",
        " u'tables',\n",
        " u'animal',\n",
        " u'fruits',\n",
        " u'tables',\n",
        " u'fruits',\n",
        " u'cars',\n",
        " u'fruits',\n",
        " u'tables',\n",
        " u'tables',\n",
        " u'animal',\n",
        " u'chairs',\n",
        " u'planes',\n",
        " u'fruits',\n",
        " u'planes',\n",
        " u'tables',\n",
        " u'faces',\n",
        " u'planes',\n",
        " u'tables',\n",
        " u'fruits',\n",
        " u'animal',\n",
        " u'chairs',\n",
        " u'fruits',\n",
        " u'fruits',\n",
        " u'animal',\n",
        " u'faces',\n",
        " u'fruits',\n",
        " u'chairs',\n",
        " u'faces',\n",
        " u'faces',\n",
        " u'cars',\n",
        " u'faces',\n",
        " u'tables',\n",
        " u'chairs',\n",
        " u'chairs',\n",
        " u'faces',\n",
        " u'planes',\n",
        " u'chairs',\n",
        " u'chairs',\n",
        " u'cars',\n",
        " u'cars',\n",
        " u'cars',\n",
        " u'animal',\n",
        " u'fruits',\n",
        " u'planes',\n",
        " u'chairs',\n",
        " u'planes',\n",
        " u'chairs',\n",
        " u'faces',\n",
        " u'tables',\n",
        " u'faces',\n",
        " u'faces',\n",
        " u'planes',\n",
        " u'animal',\n",
        " u'tables',\n",
        " u'faces',\n",
        " u'chairs',\n",
        " u'planes',\n",
        " u'chairs',\n",
        " u'cars',\n",
        " u'cars',\n",
        " u'animal',\n",
        " u'tables',\n",
        " u'cars',\n",
        " u'fruits',\n",
        " u'planes',\n",
        " u'animal',\n",
        " u'cars',\n",
        " u'fruits',\n",
        " u'cars',\n",
        " u'chairs',\n",
        " u'fruits',\n",
        " u'planes',\n",
        " u'faces',\n",
        " u'chairs',\n",
        " u'chairs',\n",
        " u'faces']"
       ]
      }
     ],
     "prompt_number": 128
    },
    {
     "cell_type": "code",
     "collapsed": false,
     "input": [],
     "language": "python",
     "metadata": {},
     "outputs": []
    }
   ],
   "metadata": {}
  }
 ]
}